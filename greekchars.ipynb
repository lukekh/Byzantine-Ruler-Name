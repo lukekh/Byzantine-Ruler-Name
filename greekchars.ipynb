{
 "cells": [
  {
   "cell_type": "code",
   "execution_count": 1,
   "metadata": {},
   "outputs": [],
   "source": [
    "import unidecode"
   ]
  },
  {
   "cell_type": "code",
   "execution_count": 2,
   "metadata": {},
   "outputs": [],
   "source": [
    "s = 'κωνσταντῖνος αʹ ὁ μέγας.'"
   ]
  },
  {
   "cell_type": "code",
   "execution_count": 3,
   "metadata": {},
   "outputs": [],
   "source": [
    "unaccented_string = unidecode.unidecode(s)"
   ]
  },
  {
   "cell_type": "code",
   "execution_count": 4,
   "metadata": {},
   "outputs": [
    {
     "data": {
      "text/plain": [
       "\"konstantinos a' o megas.\""
      ]
     },
     "execution_count": 4,
     "metadata": {},
     "output_type": "execute_result"
    }
   ],
   "source": [
    "unaccented_string"
   ]
  },
  {
   "cell_type": "code",
   "execution_count": null,
   "metadata": {},
   "outputs": [],
   "source": [
    "base_letters = ('μ', 'ν', 'γ', 'ω', 'ζ', 'π', 'ε', 'κ', 'ρ', 'δ', '.', 'λ', 'α', 'τ', 'θ', 'σ', ' ', '\"', \"'\", 'υ', 'β', 'η', 'φ', 'ψ', 'ι', 'ξ', 'χ', 'ς', 'ο')\n",
    "remove_chars = ('ʹ', '/')"
   ]
  },
  {
   "cell_type": "code",
   "execution_count": 12,
   "metadata": {},
   "outputs": [],
   "source": [
    "greek_char_map = {\n",
    "    'ὴ' : 'η',\n",
    "    'ή' : 'η',\n",
    "    'ἡ' : 'η',\n",
    "    'ὸ' : 'ο',\n",
    "    'ό' : 'ο',\n",
    "    'ὁ' : 'ο',\n",
    "    'ἴ' : 'ι',\n",
    "    'ἰ' : 'ι',\n",
    "    'ί' : 'ι',\n",
    "    'ῖ' : 'ι',\n",
    "    'ῶ' : 'ω',\n",
    "    'ώ' : 'ω',\n",
    "    'ὐ' : 'υ',\n",
    "    'ύ' : 'υ',\n",
    "    'a' : 'α',\n",
    "    'ἄ' : 'α',\n",
    "    'ᾷ' : 'α',\n",
    "    'ἀ' : 'α',\n",
    "    'ά' : 'α',\n",
    "    'ᾶ' : 'α',\n",
    "    'έ' : 'ε',\n",
    "    'ἐ' : 'ε',\n",
    "    'b' : 'β',\n",
    "    'ῥ' : 'ρ',\n",
    "}"
   ]
  },
  {
   "cell_type": "code",
   "execution_count": 13,
   "metadata": {},
   "outputs": [
    {
     "data": {
      "text/plain": [
       "True"
      ]
     },
     "execution_count": 13,
     "metadata": {},
     "output_type": "execute_result"
    }
   ],
   "source": [
    "'ἡ'=='ἡ'"
   ]
  },
  {
   "cell_type": "code",
   "execution_count": 14,
   "metadata": {},
   "outputs": [
    {
     "data": {
      "text/plain": [
       "'ἡ'"
      ]
     },
     "execution_count": 14,
     "metadata": {},
     "output_type": "execute_result"
    }
   ],
   "source": [
    "'ἡ'.replace('ἡ', 'ἡ')"
   ]
  },
  {
   "cell_type": "code",
   "execution_count": null,
   "metadata": {},
   "outputs": [],
   "source": []
  }
 ],
 "metadata": {
  "kernelspec": {
   "display_name": "byzantine",
   "language": "python",
   "name": "venv"
  },
  "language_info": {
   "codemirror_mode": {
    "name": "ipython",
    "version": 3
   },
   "file_extension": ".py",
   "mimetype": "text/x-python",
   "name": "python",
   "nbconvert_exporter": "python",
   "pygments_lexer": "ipython3",
   "version": "3.7.8"
  }
 },
 "nbformat": 4,
 "nbformat_minor": 4
}
