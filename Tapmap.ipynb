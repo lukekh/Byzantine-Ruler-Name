{
 "cells": [
  {
   "cell_type": "code",
   "execution_count": 1,
   "metadata": {},
   "outputs": [],
   "source": [
    "import os\n",
    "from PIL import Image, ImageChops\n",
    "import matplotlib.pyplot as plt\n",
    "import numpy as np\n",
    "\n",
    "from char_map import get_all_pixels, get_coords"
   ]
  },
  {
   "cell_type": "code",
   "execution_count": 2,
   "metadata": {},
   "outputs": [],
   "source": [
    "# Make entire array visible when printing data\n",
    "# np.set_printoptions(threshold=np.nan)\n",
    "\n",
    "# Open the keyboard image for later use\n",
    "keyboard = Image.open(\n",
    "    'obj/keyboard.png'\n",
    ")"
   ]
  },
  {
   "cell_type": "code",
   "execution_count": 35,
   "metadata": {},
   "outputs": [],
   "source": [
    "def get_frequencies(freq_dict):\n",
    "    \"\"\"Get the frequencies of certain keypresses.\"\"\"\n",
    "    pixels = {}\n",
    "    heatmap_data = np.asarray([[0] * 57] * 21).astype('float')\n",
    "    # Get the pixels covered by each character, and append these to pixels\n",
    "    for char in freq_dict:\n",
    "        coords = get_coords(char)\n",
    "        if coords:\n",
    "            for x, y in coords:\n",
    "                heatmap_data[x][y] = freq_dict[char]\n",
    "    \n",
    "    # Return the normalised array    \n",
    "    return np.sqrt(np.sqrt(heatmap_data)) / np.sum(np.sqrt(np.sqrt(heatmap_data)))"
   ]
  },
  {
   "cell_type": "code",
   "execution_count": 36,
   "metadata": {},
   "outputs": [
    {
     "data": {
      "text/plain": [
       "array([[0., 0., 0., ..., 0., 0., 0.],\n",
       "       [0., 0., 0., ..., 0., 0., 0.],\n",
       "       [0., 0., 0., ..., 0., 0., 0.],\n",
       "       ...,\n",
       "       [0., 0., 0., ..., 0., 0., 0.],\n",
       "       [0., 0., 0., ..., 0., 0., 0.],\n",
       "       [0., 0., 0., ..., 0., 0., 0.]])"
      ]
     },
     "execution_count": 36,
     "metadata": {},
     "output_type": "execute_result"
    }
   ],
   "source": [
    "get_frequencies({'y':0.3, '\\n':0.2, 'w':0.4})"
   ]
  },
  {
   "cell_type": "code",
   "execution_count": 37,
   "metadata": {},
   "outputs": [],
   "source": [
    "def blend_and_save(freq_dict, filename, colormap='viridis', dots=600):\n",
    "    \"\"\"Plot a heatmap, upscale it to the keyboard and save a blended image.\"\"\"\n",
    "    print('Generating heatmap...')\n",
    "    # Clear the heatmap plot and axes\n",
    "    plt.clf()\n",
    "    plt.xticks([])\n",
    "    plt.yticks([])\n",
    "    plt.axis('off')\n",
    "    # Display the data on the heatmap\n",
    "    heatmap_data = get_frequencies(freq_dict)\n",
    "    \n",
    "    plt.imshow(\n",
    "        heatmap_data, interpolation='lanczos', zorder=1, cmap=colormap\n",
    "    )\n",
    "    # Save the heatmap plot\n",
    "    plt.savefig(\n",
    "        'obj/heatmap.png',\n",
    "        dpi=dots,\n",
    "        pad_inches=0,\n",
    "        transparent=True,\n",
    "        bbox_inches='tight'\n",
    "    )\n",
    "    print('Blending and saving image...')\n",
    "    # Open the heatmap image\n",
    "    heatmap = Image.open(\n",
    "        'obj/heatmap.png'\n",
    "    )\n",
    "    # Resize the heatmap to the keyboard's size, with antialiasing\n",
    "    heatmap = heatmap.resize(keyboard.size, Image.ANTIALIAS)\n",
    "    heatmap.save(\n",
    "        'obj/heatmap.png'\n",
    "    )\n",
    "    # Blend the images, and save\n",
    "    blended = ImageChops.darker(keyboard, heatmap)\n",
    "    blended.save(\n",
    "        '{0}/{1}'.format(os.getcwd(), filename)\n",
    "    )"
   ]
  },
  {
   "cell_type": "code",
   "execution_count": 116,
   "metadata": {},
   "outputs": [
    {
     "name": "stdout",
     "output_type": "stream",
     "text": [
      "Generating heatmap...\n",
      "Blending and saving image...\n"
     ]
    },
    {
     "data": {
      "image/png": "[encoded data removed]",
      "text/plain": [
       "<Figure size 432x288 with 1 Axes>"
      ]
     },
     "metadata": {},
     "output_type": "display_data"
    }
   ],
   "source": [
    "name = 'T_'\n",
    "d = {\n",
    "    ' ': 1.1726761e-05,\n",
    "     'a': 0.0064346143,\n",
    "     'b': 0.00041932668,\n",
    "     'c': 1.922815e-09,\n",
    "     'd': 3.8843857e-09,\n",
    "     'e': 0.00039748315,\n",
    "     'f': 7.4425412e-09,\n",
    "     'g': 5.154145e-10,\n",
    "     'h': 0.51542866,\n",
    "     'i': 0.4760194,\n",
    "     'j': 5.7790835e-08,\n",
    "     'k': 1.4587388e-08,\n",
    "     'l': 9.575638e-14,\n",
    "     'm': 6.4864625e-09,\n",
    "     'n': 1.9883814e-06,\n",
    "     'o': 0.00025525942,\n",
    "     'p': 3.0378982e-07,\n",
    "     'q': 6.8313305e-08,\n",
    "     'r': 5.636214e-07,\n",
    "     's': 8.272295e-09,\n",
    "     't': 1.6422483e-12,\n",
    "     'u': 3.921075e-06,\n",
    "     'v': 1.8336871e-07,\n",
    "     'w': 1.4197276e-08,\n",
    "     'x': 1.2661507e-06,\n",
    "     'y': 3.7678174e-07,\n",
    "     'z': 0.0010245548,\n",
    "     '\"': 2.2296327e-07,\n",
    "     '.': 1.388941e-09\n",
    "}\n",
    "\n",
    "blend_and_save(\n",
    "    d,\n",
    "    f'Tapmaps/thorsten/{name}.png'\n",
    ")"
   ]
  },
  {
   "cell_type": "code",
   "execution_count": 119,
   "metadata": {},
   "outputs": [
    {
     "data": {
      "text/plain": [
       "(32, 95, 46)"
      ]
     },
     "execution_count": 119,
     "metadata": {},
     "output_type": "execute_result"
    }
   ],
   "source": [
    "ord(' '), ord('_'), ord('.'), "
   ]
  },
  {
   "cell_type": "code",
   "execution_count": 128,
   "metadata": {},
   "outputs": [
    {
     "data": {
      "text/plain": [
       "'02'"
      ]
     },
     "execution_count": 128,
     "metadata": {},
     "output_type": "execute_result"
    }
   ],
   "source": [
    "str.rjust('2', 2, '0')"
   ]
  },
  {
   "cell_type": "code",
   "execution_count": null,
   "metadata": {},
   "outputs": [],
   "source": []
  }
 ],
 "metadata": {
  "kernelspec": {
   "display_name": "byzantine",
   "language": "python",
   "name": "venv"
  },
  "language_info": {
   "codemirror_mode": {
    "name": "ipython",
    "version": 3
   },
   "file_extension": ".py",
   "mimetype": "text/x-python",
   "name": "python",
   "nbconvert_exporter": "python",
   "pygments_lexer": "ipython3",
   "version": "3.7.8"
  }
 },
 "nbformat": 4,
 "nbformat_minor": 4
}
